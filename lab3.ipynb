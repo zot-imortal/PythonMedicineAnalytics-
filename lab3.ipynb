{
 "cells": [
  {
   "cell_type": "code",
   "execution_count": 37,
   "metadata": {},
   "outputs": [],
   "source": [
    "import numpy as np\n",
    "import pandas as pd\n",
    "import matplotlib.pyplot as plt\n",
    "from sklearn.preprocessing import StandardScaler\n",
    "from sklearn.cluster import KMeans\n",
    "%matplotlib inline\n",
    "from sklearn import metrics\n",
    "import copy\n",
    "from sklearn.decomposition import PCA\n",
    "from sklearn.cluster import DBSCAN\n",
    "from sklearn.feature_selection import SelectKBest, f_classif\n",
    "\n"
   ]
  },
  {
   "cell_type": "code",
   "execution_count": 38,
   "metadata": {},
   "outputs": [],
   "source": [
    "#прочитать и сформировать MultiHeader\n",
    "file = pd.ExcelFile('Dataset_all_1.xlsx')\n",
    "df = pd.read_excel(file, header = 0, index_col=0)"
   ]
  },
  {
   "cell_type": "code",
   "execution_count": null,
   "metadata": {},
   "outputs": [],
   "source": []
  },
  {
   "cell_type": "code",
   "execution_count": 39,
   "metadata": {},
   "outputs": [],
   "source": [
    "#удалить столбцы с >20% нулевых значений\n",
    "df_clean = df.dropna(axis = 1, thresh=int(0.8*len(df)))"
   ]
  },
  {
   "cell_type": "code",
   "execution_count": 40,
   "metadata": {},
   "outputs": [],
   "source": [
    "#заполнить оставшиеся пропущенные значения средним по столбцам\n",
    "df_fill_mean = df_clean.fillna(df_clean.mean())"
   ]
  },
  {
   "cell_type": "code",
   "execution_count": 41,
   "metadata": {},
   "outputs": [
    {
     "data": {
      "text/plain": [
       "['возраст',\n",
       " 'одышка',\n",
       " 'одышка при физнагрузке',\n",
       " 'невозможность вдохнуть полной грудью',\n",
       " 'скованность в гр клетке',\n",
       " 'нехватка воздуха',\n",
       " 'нарушение ночного сна',\n",
       " 'удушье',\n",
       " 'заложенность носа',\n",
       " 'кашель',\n",
       " 'мокрота',\n",
       " 'свисты в гр клетке',\n",
       " 'Хрипы при дыхании',\n",
       " 'учащенное дыхание',\n",
       " 'учащенное сердцебиение',\n",
       " 'повышение АД',\n",
       " 'повышение температуры',\n",
       " 'отеки конечностей',\n",
       " 'головокружение',\n",
       " 'головная боль',\n",
       " 'боль в области сердца',\n",
       " 'боли в суставах',\n",
       " 'снижение слуха',\n",
       " 'утомляемость',\n",
       " 'общая слабость',\n",
       " 'ГБ',\n",
       " 'ИБС',\n",
       " 'туберкулез',\n",
       " 'онкозаболевания',\n",
       " 'сахарный диабет',\n",
       " 'гепатит',\n",
       " 'ВИЧ',\n",
       " 'аллергия',\n",
       " 'курение',\n",
       " 'бронхиты',\n",
       " 'периодическая одышка',\n",
       " 'частое удушье',\n",
       " 'хрипы',\n",
       " 'Вредные условия труда',\n",
       " 'общее состояние',\n",
       " 'вспом мускулатура',\n",
       " 'положение',\n",
       " 'одышка.1',\n",
       " 'кожные покровы',\n",
       " 'цианоз губ',\n",
       " 'грудная клетка',\n",
       " 'перкуторно',\n",
       " 'дыхание жесткое',\n",
       " 'дыхание ослаблено',\n",
       " 'свистящие хрипы',\n",
       " 'влажные хрипы',\n",
       " 'сухие хрипы',\n",
       " 'крепитация',\n",
       " 'выдох удлинен',\n",
       " 'ЧДД в минуту',\n",
       " 'громкость',\n",
       " 'анцент 2-го тона',\n",
       " 'ритмичность',\n",
       " 'АД сист',\n",
       " 'АД диаст',\n",
       " 'Пульс',\n",
       " 'дых недостаточность',\n",
       " 'сердечная недостаточность',\n",
       " 'интоксикация',\n",
       " 'отеки конечностей.1',\n",
       " 'эритроциты',\n",
       " 'Hb',\n",
       " 'цветовой показатель',\n",
       " 'лейкоциты',\n",
       " 'эозинофилы',\n",
       " 'палочкоядерные',\n",
       " 'сегментоядерные',\n",
       " 'лимфоциты',\n",
       " 'Моноциты',\n",
       " 'СОЭ',\n",
       " 'белок',\n",
       " 'лейк п/зр',\n",
       " 'эритр неизм п/зр',\n",
       " 'очаги',\n",
       " 'жидкость',\n",
       " 'пневмосклероз',\n",
       " 'прозрачность',\n",
       " 'рисунок',\n",
       " 'корни ',\n",
       " 'отклонение ЭОС',\n",
       " 'нарушение АВ-проводимости',\n",
       " 'реполяриз изменения',\n",
       " 'правые камеры',\n",
       " 'ритм',\n",
       " 'нарушение внутрижелуд пров',\n",
       " 'блокада пучка Гиса',\n",
       " 'ГМЛЖ',\n",
       " 'рестриктивный тип',\n",
       " 'обструктивный тип']"
      ]
     },
     "execution_count": 41,
     "metadata": {},
     "output_type": "execute_result"
    }
   ],
   "source": [
    "features = df_fill_mean.columns.values.tolist()[2:]\n",
    "features\n"
   ]
  },
  {
   "cell_type": "code",
   "execution_count": 42,
   "metadata": {},
   "outputs": [
    {
     "data": {
      "text/plain": [
       "array([[79.,  1.,  1., ...,  0.,  0.,  3.],\n",
       "       [76.,  1.,  1., ...,  2.,  3.,  3.],\n",
       "       [72.,  1.,  0., ...,  0.,  1.,  1.],\n",
       "       ...,\n",
       "       [26.,  1.,  0., ...,  0.,  1.,  1.],\n",
       "       [82.,  1.,  0., ...,  0.,  1.,  1.],\n",
       "       [35.,  0.,  0., ...,  2.,  2.,  2.]])"
      ]
     },
     "execution_count": 42,
     "metadata": {},
     "output_type": "execute_result"
    }
   ],
   "source": [
    "# Separating out the features\n",
    "x = df_fill_mean.iloc[:,2:].values\n",
    "#x = x[:,1:]\n",
    "x"
   ]
  },
  {
   "cell_type": "code",
   "execution_count": 43,
   "metadata": {},
   "outputs": [
    {
     "data": {
      "text/plain": [
       "array(['ХОЗЛ', 'ХОЗЛ', 'ХОЗЛ', 'ХОЗЛ', 'ХОЗЛ', 'ХОЗЛ', 'ХОЗЛ', 'ХОЗЛ',\n",
       "       'ХОЗЛ', 'ХОЗЛ', 'ХОЗЛ', 'ХОЗЛ', 'ХОЗЛ', 'ХОЗЛ', 'ХОЗЛ', 'ХОЗЛ',\n",
       "       'ХОЗЛ', 'ХОЗЛ', 'ХОЗЛ', 'ХОЗЛ', 'ХОЗЛ', 'ХОЗЛ', 'ХОЗЛ', 'ХОЗЛ',\n",
       "       'ХОЗЛ', 'ХОЗЛ', 'ХОЗЛ', 'ХОЗЛ', 'ХОЗЛ', 'ХОЗЛ', 'ХОЗЛ', 'ХОЗЛ',\n",
       "       'ХОЗЛ', 'ХОЗЛ', 'ХОЗЛ', 'ХОЗЛ', 'ХОЗЛ', 'ХОЗЛ', 'ХОЗЛ', 'ХОЗЛ',\n",
       "       'ХОЗЛ', 'ХОЗЛ', 'ХОЗЛ', 'ХОЗЛ', 'ХОЗЛ', 'ХОЗЛ', 'БА', 'БА', 'БА',\n",
       "       'БА', 'БА', 'БА', 'БА', 'БА', 'БА', 'БА', 'БА', 'БА', 'БА', 'БА',\n",
       "       'БА', 'БА', 'БА', 'БА', 'БА', 'БА', 'БА', 'БА', 'БА', 'БА', 'БА',\n",
       "       'БА', 'БА', 'БА', 'БА', 'БА', 'БА', 'БА', 'БА', 'БА', 'БА', 'БА',\n",
       "       'БА', 'БА', 'БА', 'БА', 'БА', 'БА', 'БА', 'БА', 'БА', 'БА', 'БА',\n",
       "       'БА', 'БА', 'БА', 'БА', 'БА', 'БА', 'Пневмонія', 'Пневмонія',\n",
       "       'Пневмонія', 'Пневмонія', 'Пневмонія', 'Пневмонія', 'Пневмонія',\n",
       "       'Пневмонія', 'Пневмонія', 'Пневмонія', 'Пневмонія', 'Пневмонія',\n",
       "       'Пневмонія', 'Пневмонія', 'Пневмонія', 'Пневмонія', 'Пневмонія',\n",
       "       'Пневмонія', 'Пневмонія', 'Пневмонія', 'Пневмонія', 'Пневмонія',\n",
       "       'Пневмонія', 'Пневмонія', 'Пневмонія', 'Пневмонія', 'Пневмонія',\n",
       "       'Пневмонія', 'Пневмонія', 'Пневмонія', 'Пневмонія', 'Пневмонія',\n",
       "       'Пневмонія'], dtype=object)"
      ]
     },
     "execution_count": 43,
     "metadata": {},
     "output_type": "execute_result"
    }
   ],
   "source": [
    "# Separating out the target\n",
    "y = df_fill_mean.loc[:,'Діагноз'].values\n",
    "y"
   ]
  },
  {
   "cell_type": "code",
   "execution_count": 44,
   "metadata": {},
   "outputs": [
    {
     "name": "stdout",
     "output_type": "stream",
     "text": [
      "[[ 1.61826478  0.88531564  0.85839508 -0.39735971  1.54421999  2.9032002\n",
      "  -0.21821789 -0.68313005 -0.34444748  0.45935735  1.11233454  1.69774938\n",
      "  -0.98496155  8.06225775  2.06881609 -0.39735971 -0.79349205 -0.21821789\n",
      "  -0.43495884 -0.51887452 -0.51887452 -0.31622777 -0.19841895 -0.49526056\n",
      "   0.60068689  1.26025208 -0.55401326 -0.21821789 -0.12403473 -0.21821789\n",
      "  -0.08737041 -0.08737041 -0.41005072  2.6925824   1.28062485  1.63299316\n",
      "  -0.35805744  8.06225775 -0.41005072 -0.51887452 -0.4472136  -0.23664319\n",
      "  -0.21821789 -1.39044357 -0.49526056  1.23675899  0.39553199 -0.92690611\n",
      "   1.24034735 -0.43495884 -0.50709255  0.60068689 -0.15249857 -0.25400025\n",
      "  -0.47399217  0.73135745 -0.42257713 -0.12403473  1.45488173  1.60708264\n",
      "   0.24051913 -0.25400025 -0.15249857 -0.19841895 -0.30151134  0.09104969\n",
      "   0.31843575  0.50747363  0.65691907 -0.46495248  0.62234291  0.94327065\n",
      "  -1.70777768 -0.22613811 -0.40978488  4.94688553 -0.08531714  3.60959333\n",
      "   2.12132034 -0.1767767   1.46385011  1.46314261 -0.89901011  0.36715742\n",
      "  -0.45935735 -0.27050089 -0.34444748 -0.33052034  0.15762208 -0.33052034\n",
      "   2.79284801 -0.7515674  -1.36790016  1.35754629]\n",
      " [ 1.43326684  0.88531564  0.85839508 -0.39735971 -0.64757613 -0.34444748\n",
      "  -0.21821789 -0.68313005 -0.34444748  0.45935735  1.11233454 -0.58901509\n",
      "   1.01526806 -0.12403473 -0.48336824 -0.39735971 -0.79349205 -0.21821789\n",
      "  -0.43495884 -0.51887452 -0.51887452 -0.31622777 -0.19841895 -0.49526056\n",
      "  -1.66476082  1.26025208 -0.55401326 -0.21821789 -0.12403473  4.58257569\n",
      "  -0.08737041 -0.08737041 -0.41005072 -0.37139068 -0.78086881  1.63299316\n",
      "  -0.35805744  8.06225775 -0.41005072 -0.51887452 -0.4472136  -0.23664319\n",
      "  -0.21821789 -1.39044357 -0.49526056 -0.86972084 -0.64867247 -0.92690611\n",
      "   1.24034735 -0.43495884 -0.50709255  0.60068689 -0.15249857 -0.25400025\n",
      "  -0.16475664  0.73135745 -0.42257713 -0.12403473  0.42293073  0.70021824\n",
      "  -0.27403891 -0.25400025 -0.15249857 -0.19841895 -0.30151134 -0.20363802\n",
      "  -0.22005723 -0.52750548 -0.16712862 -0.46495248  0.22083136 -0.46621423\n",
      "   0.17101864 -0.63700875  0.36385029 -0.32102752 -0.54745165 -0.29429297\n",
      "  -0.47140452 -0.1767767  -0.68313005 -0.79574423 -0.89901011 -0.87552924\n",
      "  -0.45935735 -0.27050089  2.9032002  -0.33052034  0.15762208 -0.33052034\n",
      "  -0.35805744  1.45303031  1.43877582  1.35754629]]\n"
     ]
    }
   ],
   "source": [
    "x_stan = StandardScaler().fit_transform(x)\n",
    "print(x_stan[:2,:])\n"
   ]
  },
  {
   "cell_type": "code",
   "execution_count": 45,
   "metadata": {},
   "outputs": [
    {
     "data": {
      "text/plain": [
       "array([2, 2, 2, 2, 2, 2, 2, 2, 2, 2, 2, 2, 2, 1, 2, 2, 2, 2, 2, 2, 2, 2,\n",
       "       2, 2, 1, 1, 1, 1, 1, 1, 2, 2, 2, 2, 0, 2, 2, 2, 0, 2, 2, 2, 2, 2,\n",
       "       2, 1, 0, 0, 1, 2, 0, 0, 1, 2, 2, 0, 0, 1, 0, 1, 0, 0, 0, 1, 2, 0,\n",
       "       0, 0, 0, 0, 0, 1, 1, 1, 1, 1, 1, 1, 1, 1, 1, 1, 1, 1, 1, 1, 1, 1,\n",
       "       1, 1, 1, 1, 1, 1, 1, 1, 1, 1, 1, 1, 1, 1, 1, 1, 1, 1, 1, 1, 1, 1,\n",
       "       1, 1, 1, 1, 1, 1, 1, 1, 1, 1, 1, 1, 1, 1, 1, 1, 1, 1, 1, 1, 1, 1])"
      ]
     },
     "execution_count": 45,
     "metadata": {},
     "output_type": "execute_result"
    }
   ],
   "source": [
    "# Fitting K-Means to the dataset\n",
    "kmeans = KMeans(n_clusters = 3, init = 'k-means++', random_state = 42)\n",
    "y_kmeans = kmeans.fit_predict(x_stan)\n",
    "y_kmeans"
   ]
  },
  {
   "cell_type": "code",
   "execution_count": 46,
   "metadata": {},
   "outputs": [
    {
     "name": "stdout",
     "output_type": "stream",
     "text": [
      "              precision    recall  f1-score   support\n",
      "\n",
      "           0       0.89      0.30      0.45        53\n",
      "           1       0.45      1.00      0.62        33\n",
      "           2       0.90      0.78      0.84        46\n",
      "\n",
      "    accuracy                           0.64       132\n",
      "   macro avg       0.74      0.69      0.63       132\n",
      "weighted avg       0.78      0.64      0.63       132\n",
      "\n",
      "[[16 33  4]\n",
      " [ 0 33  0]\n",
      " [ 2  8 36]]\n"
     ]
    }
   ],
   "source": [
    "y_k = copy.copy(y)\n",
    "y_k[y =='ХОЗЛ'] = 2\n",
    "y_k[y =='БА'] = 0\n",
    "y_k[y =='Пневмонія'] = 1\n",
    "\n",
    "# make predictions\n",
    "expected = list(y_k)\n",
    "predicted = list(y_kmeans)\n",
    "# summarize the fit of the model\n",
    "print(metrics.classification_report(expected, predicted))\n",
    "print(metrics.confusion_matrix(expected, predicted))\n",
    "\n"
   ]
  },
  {
   "cell_type": "code",
   "execution_count": 47,
   "metadata": {},
   "outputs": [
    {
     "name": "stdout",
     "output_type": "stream",
     "text": [
      "[[-36.96232631   4.78231342]\n",
      " [-17.3784579   13.99137726]\n",
      " [-33.44696198  26.08145022]\n",
      " [ -8.63177187  -3.11172689]\n",
      " [-41.15780059  -6.50415746]\n",
      " [-13.43843449 -21.29336331]\n",
      " [ -4.96258038  19.50656933]\n",
      " [ -9.03809677   3.06055377]\n",
      " [  2.91915886  -0.09005814]\n",
      " [-19.88240703 -32.89469022]\n",
      " [-12.08994298 -12.71996585]\n",
      " [ -3.58190664 -25.03955035]\n",
      " [-19.78108454   9.56652198]\n",
      " [-12.16910417   4.00752199]\n",
      " [-22.97097768  12.16087198]\n",
      " [  3.69628548 -17.58936953]\n",
      " [-41.63599727  13.05953741]\n",
      " [ -9.01942129  -5.04400861]\n",
      " [-15.28328695   6.16066305]\n",
      " [ -3.72174247 -15.69475207]\n",
      " [-11.98656125 -12.27592945]\n",
      " [-11.48796212 -18.2273902 ]\n",
      " [  1.27375411 -11.8148378 ]\n",
      " [ 13.13877587   5.60134079]\n",
      " [ 22.46853737  21.0357217 ]\n",
      " [ -1.4806301  -17.87202009]\n",
      " [ -4.36063715  -6.30895768]\n",
      " [  7.55998708  -5.66445028]\n",
      " [  7.32140098  15.55212603]\n",
      " [ -5.82423279   0.91046535]\n",
      " [ -6.0963939   12.56083889]\n",
      " [ -6.86786987  -5.28855789]\n",
      " [  0.34156833 -30.45388877]\n",
      " [ 14.03579081 -24.66109617]\n",
      " [-22.96372066   1.29111834]\n",
      " [-22.75657549  -2.13887891]\n",
      " [-22.34071566  14.00420814]\n",
      " [-15.1346609   -1.93170895]\n",
      " [ -7.82791926 -19.7906571 ]\n",
      " [-11.60181702 -15.4003128 ]\n",
      " [-46.02184484   1.25998217]\n",
      " [ 20.7916675  -26.11609158]\n",
      " [-21.53285983 -29.55390891]\n",
      " [ -1.89192037  -4.33891322]\n",
      " [  0.36476389 -22.44867242]\n",
      " [  1.90440445   4.38041848]\n",
      " [-34.47930415 -12.80421566]\n",
      " [-16.06206937 -21.19615311]\n",
      " [  8.23873698   2.49463452]\n",
      " [ -6.14434469  28.6917907 ]\n",
      " [-11.31989262 -15.03508692]\n",
      " [ 11.78225159 -16.05959696]\n",
      " [ 24.62582617  -9.90450396]\n",
      " [  7.79002056 -14.81288735]\n",
      " [  4.73460411   2.12205526]\n",
      " [  7.92256533 -21.19711   ]\n",
      " [-14.32234824  -1.63519654]\n",
      " [ -1.56138599   4.93433817]\n",
      " [ -3.53959111  -4.26500056]\n",
      " [  1.1455725   -8.25532727]\n",
      " [-25.4463725   -6.40446243]\n",
      " [ 24.25190367 -31.69155084]\n",
      " [-10.94005531 -18.16947824]\n",
      " [  4.64603368  -4.36577948]\n",
      " [ -9.82965175  19.43846478]\n",
      " [-12.31356169 -10.37760496]\n",
      " [-44.83163405  -0.54675255]\n",
      " [ 22.35658275  16.10563004]\n",
      " [ -9.39872518  16.35346196]\n",
      " [-27.18032446 -13.05609781]\n",
      " [-22.38359573   4.64148632]\n",
      " [ 20.35434377 -26.74105276]\n",
      " [-19.52947215  11.77180501]\n",
      " [ 13.05800742 -14.21649088]\n",
      " [ 24.3025308    1.32520124]\n",
      " [  1.78255485   0.97883879]\n",
      " [  4.8299204   -8.06741554]\n",
      " [  5.42457286   0.61340955]\n",
      " [-14.6371162   18.02496247]\n",
      " [-20.53436545  13.48153182]\n",
      " [ 23.56868138 -10.63203003]\n",
      " [ 16.27936056  -0.35416222]\n",
      " [ -1.93920939  -7.20733439]\n",
      " [ -9.20252259 -10.21089535]\n",
      " [ 16.4796169   -0.3224982 ]\n",
      " [ 13.84329362 -19.98101126]\n",
      " [ 26.80326481  -9.99756034]\n",
      " [  5.6063765   -3.85937209]\n",
      " [ 13.27208598  25.80001316]\n",
      " [ 14.7872142  -23.13808012]\n",
      " [-25.41828437   2.24064804]\n",
      " [ -7.82049664  34.36283974]\n",
      " [  8.64372329  11.77505321]\n",
      " [-11.15003766  -1.20154924]\n",
      " [ 11.90511237 -44.69494502]\n",
      " [ -0.98081144   6.0026822 ]\n",
      " [ 21.90321803 -25.14786395]\n",
      " [ -4.90288089   9.12939944]\n",
      " [ 17.88064062 -13.40611085]\n",
      " [ 32.04580693  39.53116896]\n",
      " [  6.95264872   3.78778789]\n",
      " [ 37.80562033   6.35914414]\n",
      " [  0.97155439  -7.58474618]\n",
      " [ 21.01944151  -3.58521633]\n",
      " [ 15.01078063  14.64245355]\n",
      " [ -6.89624114  -6.22517558]\n",
      " [ 25.47921153 -14.37557239]\n",
      " [ 18.39966516 -15.32403485]\n",
      " [ 59.95609252 -27.75525341]\n",
      " [ 25.22194032  -2.71328579]\n",
      " [ -6.2872921   49.62203968]\n",
      " [  9.88542685  21.76520615]\n",
      " [ 25.07697558  -6.18725836]\n",
      " [ 13.9584188    5.61579779]\n",
      " [-17.87364804  -2.41548122]\n",
      " [ 22.19164118  15.31827987]\n",
      " [ 43.2284592   19.37230476]\n",
      " [-24.70385975  44.50141417]\n",
      " [ 25.30332777   1.80600314]\n",
      " [-28.65590532  -4.91251242]\n",
      " [ -0.16379492   9.50462334]\n",
      " [  9.3981055   22.91296617]\n",
      " [  9.42515709   0.44110183]\n",
      " [ -6.95460634  10.57980799]\n",
      " [ 35.39611072  35.88343444]\n",
      " [ -7.26945555  34.4801695 ]\n",
      " [ 36.78991279  58.05511748]\n",
      " [-14.13298308  47.64776584]\n",
      " [-18.19563288  15.35814207]\n",
      " [ 30.43858781  -9.48895199]\n",
      " [-17.62292953  13.76417392]\n",
      " [ 81.96342903  33.57983069]]\n"
     ]
    }
   ],
   "source": [
    "pca = PCA(n_components=2)\n",
    "principalComponents = pca.fit_transform(x)\n",
    "print(principalComponents)"
   ]
  },
  {
   "cell_type": "code",
   "execution_count": 48,
   "metadata": {},
   "outputs": [
    {
     "data": {
      "text/html": [
       "<div>\n",
       "<style scoped>\n",
       "    .dataframe tbody tr th:only-of-type {\n",
       "        vertical-align: middle;\n",
       "    }\n",
       "\n",
       "    .dataframe tbody tr th {\n",
       "        vertical-align: top;\n",
       "    }\n",
       "\n",
       "    .dataframe thead th {\n",
       "        text-align: right;\n",
       "    }\n",
       "</style>\n",
       "<table border=\"1\" class=\"dataframe\">\n",
       "  <thead>\n",
       "    <tr style=\"text-align: right;\">\n",
       "      <th></th>\n",
       "      <th>principal component 1</th>\n",
       "      <th>principal component 2</th>\n",
       "      <th>Діагноз</th>\n",
       "    </tr>\n",
       "  </thead>\n",
       "  <tbody>\n",
       "    <tr>\n",
       "      <th>0</th>\n",
       "      <td>-36.962326</td>\n",
       "      <td>4.782313</td>\n",
       "      <td>ХОЗЛ</td>\n",
       "    </tr>\n",
       "    <tr>\n",
       "      <th>1</th>\n",
       "      <td>-17.378458</td>\n",
       "      <td>13.991377</td>\n",
       "      <td>ХОЗЛ</td>\n",
       "    </tr>\n",
       "    <tr>\n",
       "      <th>2</th>\n",
       "      <td>-33.446962</td>\n",
       "      <td>26.081450</td>\n",
       "      <td>ХОЗЛ</td>\n",
       "    </tr>\n",
       "    <tr>\n",
       "      <th>3</th>\n",
       "      <td>-8.631772</td>\n",
       "      <td>-3.111727</td>\n",
       "      <td>ХОЗЛ</td>\n",
       "    </tr>\n",
       "    <tr>\n",
       "      <th>4</th>\n",
       "      <td>-41.157801</td>\n",
       "      <td>-6.504157</td>\n",
       "      <td>ХОЗЛ</td>\n",
       "    </tr>\n",
       "    <tr>\n",
       "      <th>...</th>\n",
       "      <td>...</td>\n",
       "      <td>...</td>\n",
       "      <td>...</td>\n",
       "    </tr>\n",
       "    <tr>\n",
       "      <th>127</th>\n",
       "      <td>-14.132983</td>\n",
       "      <td>47.647766</td>\n",
       "      <td>Пневмонія</td>\n",
       "    </tr>\n",
       "    <tr>\n",
       "      <th>128</th>\n",
       "      <td>-18.195633</td>\n",
       "      <td>15.358142</td>\n",
       "      <td>Пневмонія</td>\n",
       "    </tr>\n",
       "    <tr>\n",
       "      <th>129</th>\n",
       "      <td>30.438588</td>\n",
       "      <td>-9.488952</td>\n",
       "      <td>Пневмонія</td>\n",
       "    </tr>\n",
       "    <tr>\n",
       "      <th>130</th>\n",
       "      <td>-17.622930</td>\n",
       "      <td>13.764174</td>\n",
       "      <td>Пневмонія</td>\n",
       "    </tr>\n",
       "    <tr>\n",
       "      <th>131</th>\n",
       "      <td>81.963429</td>\n",
       "      <td>33.579831</td>\n",
       "      <td>Пневмонія</td>\n",
       "    </tr>\n",
       "  </tbody>\n",
       "</table>\n",
       "<p>132 rows × 3 columns</p>\n",
       "</div>"
      ],
      "text/plain": [
       "     principal component 1  principal component 2    Діагноз\n",
       "0               -36.962326               4.782313       ХОЗЛ\n",
       "1               -17.378458              13.991377       ХОЗЛ\n",
       "2               -33.446962              26.081450       ХОЗЛ\n",
       "3                -8.631772              -3.111727       ХОЗЛ\n",
       "4               -41.157801              -6.504157       ХОЗЛ\n",
       "..                     ...                    ...        ...\n",
       "127             -14.132983              47.647766  Пневмонія\n",
       "128             -18.195633              15.358142  Пневмонія\n",
       "129              30.438588              -9.488952  Пневмонія\n",
       "130             -17.622930              13.764174  Пневмонія\n",
       "131              81.963429              33.579831  Пневмонія\n",
       "\n",
       "[132 rows x 3 columns]"
      ]
     },
     "execution_count": 48,
     "metadata": {},
     "output_type": "execute_result"
    }
   ],
   "source": [
    "principalDf = pd.DataFrame(data = principalComponents,\n",
    "                            columns = ['principal component 1', 'principal component 2'])\n",
    "principalDf\n",
    "finalDf3 = pd.concat([principalDf, df_fill_mean[['Діагноз']].reset_index(drop=True)], axis = 1)\n",
    "finalDf3"
   ]
  },
  {
   "cell_type": "code",
   "execution_count": 49,
   "metadata": {},
   "outputs": [
    {
     "data": {
      "image/png": "[encoded data removed]",
      "text/plain": [
       "<Figure size 576x576 with 1 Axes>"
      ]
     },
     "metadata": {
      "needs_background": "light"
     },
     "output_type": "display_data"
    },
    {
     "data": {
      "image/png": "[encoded data removed]",
      "text/plain": [
       "<Figure size 576x576 with 1 Axes>"
      ]
     },
     "metadata": {
      "needs_background": "light"
     },
     "output_type": "display_data"
    }
   ],
   "source": [
    "\n",
    "fig = plt.figure(figsize = (8,8))\n",
    "ax = fig.add_subplot(1,1,1) \n",
    "ax.set_xlabel('Principal Component 1', fontsize = 15)\n",
    "ax.set_ylabel('Principal Component 2', fontsize = 15)\n",
    "ax.set_title('2 component PCA', fontsize = 20)\n",
    "targets = [0, 1, 2]\n",
    "colors = ['r', 'g', 'b']\n",
    "for target, color in zip(targets,colors):\n",
    "    indicesToKeep = y_k == target\n",
    "    ax.scatter(finalDf3.loc[indicesToKeep, 'principal component 1']\n",
    "               , finalDf3.loc[indicesToKeep, 'principal component 2']\n",
    "               , c = color\n",
    "               , s = 50)\n",
    "ax.legend(targets)\n",
    "ax.grid()\n",
    "fig = plt.figure(figsize = (8,8))\n",
    "ax = fig.add_subplot(1,1,1) \n",
    "ax.set_xlabel('Principal Component 1', fontsize = 15)\n",
    "ax.set_ylabel('Principal Component 2', fontsize = 15)\n",
    "ax.set_title('2 component PCA', fontsize = 20)\n",
    "targets = [0, 1, 2]\n",
    "colors = ['r', 'g', 'b']\n",
    "for target, color in zip(targets,colors):\n",
    "    indicesToKeep = y_kmeans == target\n",
    "    ax.scatter(finalDf3.loc[indicesToKeep, 'principal component 1']\n",
    "               , finalDf3.loc[indicesToKeep, 'principal component 2']\n",
    "               , c = color\n",
    "               , s = 50)\n",
    "ax.legend(targets)\n",
    "ax.grid()"
   ]
  },
  {
   "cell_type": "code",
   "execution_count": 51,
   "metadata": {},
   "outputs": [
    {
     "ename": "NameError",
     "evalue": "name 'c1' is not defined",
     "output_type": "error",
     "traceback": [
      "\u001b[1;31m---------------------------------------------------------------------------\u001b[0m",
      "\u001b[1;31mNameError\u001b[0m                                 Traceback (most recent call last)",
      "\u001b[1;32m<ipython-input-51-5e20e3542167>\u001b[0m in \u001b[0;36m<module>\u001b[1;34m\u001b[0m\n\u001b[0;32m     17\u001b[0m         \u001b[0mc3\u001b[0m \u001b[1;33m=\u001b[0m \u001b[0mplt\u001b[0m\u001b[1;33m.\u001b[0m\u001b[0mscatter\u001b[0m\u001b[1;33m(\u001b[0m\u001b[0mpca_2d\u001b[0m\u001b[1;33m[\u001b[0m\u001b[0mi\u001b[0m\u001b[1;33m,\u001b[0m \u001b[1;36m0\u001b[0m\u001b[1;33m]\u001b[0m\u001b[1;33m,\u001b[0m \u001b[0mpca_2d\u001b[0m\u001b[1;33m[\u001b[0m\u001b[0mi\u001b[0m\u001b[1;33m,\u001b[0m \u001b[1;36m1\u001b[0m\u001b[1;33m]\u001b[0m\u001b[1;33m,\u001b[0m \u001b[0mc\u001b[0m\u001b[1;33m=\u001b[0m\u001b[1;34m'b'\u001b[0m\u001b[1;33m,\u001b[0m \u001b[0mmarker\u001b[0m\u001b[1;33m=\u001b[0m\u001b[1;34m'*'\u001b[0m\u001b[1;33m)\u001b[0m\u001b[1;33m\u001b[0m\u001b[1;33m\u001b[0m\u001b[0m\n\u001b[0;32m     18\u001b[0m \u001b[1;33m\u001b[0m\u001b[0m\n\u001b[1;32m---> 19\u001b[1;33m \u001b[0mplt\u001b[0m\u001b[1;33m.\u001b[0m\u001b[0mlegend\u001b[0m\u001b[1;33m(\u001b[0m\u001b[1;33m[\u001b[0m\u001b[0mc1\u001b[0m\u001b[1;33m,\u001b[0m \u001b[0mc2\u001b[0m\u001b[1;33m,\u001b[0m \u001b[0mc3\u001b[0m\u001b[1;33m]\u001b[0m\u001b[1;33m,\u001b[0m \u001b[1;33m[\u001b[0m\u001b[1;34m'БА'\u001b[0m\u001b[1;33m,\u001b[0m \u001b[1;34m'Кластер 2'\u001b[0m\u001b[1;33m,\u001b[0m \u001b[1;34m'Шум'\u001b[0m\u001b[1;33m]\u001b[0m\u001b[1;33m)\u001b[0m\u001b[1;33m\u001b[0m\u001b[1;33m\u001b[0m\u001b[0m\n\u001b[0m\u001b[0;32m     20\u001b[0m \u001b[0mplt\u001b[0m\u001b[1;33m.\u001b[0m\u001b[0mtitle\u001b[0m\u001b[1;33m(\u001b[0m\u001b[1;34m'DBSCAN нашел 2 кластера и шум'\u001b[0m\u001b[1;33m)\u001b[0m\u001b[1;33m\u001b[0m\u001b[1;33m\u001b[0m\u001b[0m\n\u001b[0;32m     21\u001b[0m \u001b[0mplt\u001b[0m\u001b[1;33m.\u001b[0m\u001b[0mshow\u001b[0m\u001b[1;33m(\u001b[0m\u001b[1;33m)\u001b[0m\u001b[1;33m\u001b[0m\u001b[1;33m\u001b[0m\u001b[0m\n",
      "\u001b[1;31mNameError\u001b[0m: name 'c1' is not defined"
     ]
    },
    {
     "data": {
      "image/png": "[encoded data removed]",
      "text/plain": [
       "<Figure size 432x288 with 1 Axes>"
      ]
     },
     "metadata": {
      "needs_background": "light"
     },
     "output_type": "display_data"
    }
   ],
   "source": [
    "dbscan = DBSCAN(min_samples=20)\n",
    "\n",
    "# Обучаем\n",
    "dbscan.fit(x)\n",
    "\n",
    "# Уменьшаем размерность при помощи метода главных компонент\n",
    "pca = PCA(n_components=3).fit(x)\n",
    "pca_2d = pca.transform(x)\n",
    "\n",
    "# Строим в соответствии с тремя классами\n",
    "for i in range(0, pca_2d.shape[0]):\n",
    "    if dbscan.labels_[i] == 0:\n",
    "        c1 = plt.scatter(pca_2d[i, 0], pca_2d[i, 1], c='r', marker='+')\n",
    "    elif dbscan.labels_[i] == 1:\n",
    "        c2 = plt.scatter(pca_2d[i, 0], pca_2d[i, 1], c='g', marker='o')\n",
    "    elif dbscan.labels_[i] == -1:\n",
    "        c3 = plt.scatter(pca_2d[i, 0], pca_2d[i, 1], c='b', marker='*')\n",
    "\n",
    "plt.legend([c1, c2, c3], ['БА', 'Кластер 2', 'Шум'])\n",
    "plt.title('DBSCAN нашел 2 кластера и шум')\n",
    "plt.show()"
   ]
  },
  {
   "cell_type": "code",
   "execution_count": null,
   "metadata": {},
   "outputs": [],
   "source": [
    "dbscan.labels_"
   ]
  },
  {
   "cell_type": "code",
   "execution_count": 52,
   "metadata": {},
   "outputs": [
    {
     "data": {
      "text/plain": [
       "array([[-0.68313005,  0.60068689,  2.12132034],\n",
       "       [-0.68313005,  0.60068689, -0.47140452],\n",
       "       [-0.68313005,  0.60068689, -0.47140452],\n",
       "       [-0.68313005,  0.60068689, -0.47140452],\n",
       "       [-0.68313005,  0.60068689, -0.47140452],\n",
       "       [-0.68313005,  0.60068689, -0.47140452],\n",
       "       [-0.68313005,  0.60068689, -0.47140452],\n",
       "       [-0.68313005,  0.60068689, -0.47140452],\n",
       "       [-0.68313005,  0.60068689, -0.47140452],\n",
       "       [-0.68313005,  0.60068689, -0.47140452],\n",
       "       [-0.68313005,  0.60068689, -0.47140452],\n",
       "       [-0.68313005,  0.60068689, -0.47140452],\n",
       "       [-0.68313005,  0.60068689, -0.47140452],\n",
       "       [-0.68313005,  0.60068689, -0.47140452],\n",
       "       [-0.68313005,  0.60068689, -0.47140452],\n",
       "       [-0.68313005,  0.60068689, -0.47140452],\n",
       "       [-0.68313005,  0.60068689, -0.47140452],\n",
       "       [-0.68313005,  0.60068689, -0.47140452],\n",
       "       [-0.68313005,  0.60068689, -0.47140452],\n",
       "       [-0.68313005,  0.60068689, -0.47140452],\n",
       "       [-0.68313005,  0.60068689, -0.47140452],\n",
       "       [-0.68313005,  0.60068689, -0.47140452],\n",
       "       [-0.68313005,  0.60068689, -0.47140452],\n",
       "       [-0.68313005,  0.60068689, -0.47140452],\n",
       "       [-0.68313005,  0.60068689, -0.47140452],\n",
       "       [ 1.46385011,  0.60068689, -0.47140452],\n",
       "       [-0.68313005,  0.60068689, -0.47140452],\n",
       "       [-0.68313005,  0.60068689, -0.47140452],\n",
       "       [ 1.46385011,  0.60068689, -0.47140452],\n",
       "       [-0.68313005,  0.60068689, -0.47140452],\n",
       "       [-0.68313005,  0.60068689, -0.47140452],\n",
       "       [-0.68313005,  0.60068689, -0.47140452],\n",
       "       [ 1.46385011,  0.60068689, -0.47140452],\n",
       "       [-0.68313005,  0.60068689, -0.47140452],\n",
       "       [ 1.46385011,  0.60068689, -0.47140452],\n",
       "       [-0.68313005,  0.60068689, -0.47140452],\n",
       "       [-0.68313005,  0.60068689, -0.47140452],\n",
       "       [-0.68313005,  0.60068689, -0.47140452],\n",
       "       [-0.68313005,  0.60068689, -0.47140452],\n",
       "       [-0.68313005,  0.60068689, -0.47140452],\n",
       "       [-0.68313005,  0.60068689, -0.47140452],\n",
       "       [-0.68313005,  0.60068689, -0.47140452],\n",
       "       [-0.68313005,  0.60068689, -0.47140452],\n",
       "       [-0.68313005,  0.60068689, -0.47140452],\n",
       "       [-0.68313005,  0.60068689, -0.47140452],\n",
       "       [-0.68313005, -1.66476082, -0.47140452],\n",
       "       [ 1.46385011,  0.60068689, -0.47140452],\n",
       "       [ 1.46385011,  0.60068689, -0.47140452],\n",
       "       [-0.68313005,  0.60068689, -0.47140452],\n",
       "       [ 1.46385011, -1.66476082, -0.47140452],\n",
       "       [ 1.46385011,  0.60068689, -0.47140452],\n",
       "       [ 1.46385011,  0.60068689, -0.47140452],\n",
       "       [ 1.46385011,  0.60068689, -0.47140452],\n",
       "       [ 1.46385011,  0.60068689, -0.47140452],\n",
       "       [ 1.46385011,  0.60068689, -0.47140452],\n",
       "       [ 1.46385011,  0.60068689, -0.47140452],\n",
       "       [ 1.46385011,  0.60068689, -0.47140452],\n",
       "       [-0.68313005,  0.60068689, -0.47140452],\n",
       "       [ 1.46385011,  0.60068689, -0.47140452],\n",
       "       [ 1.46385011,  0.60068689, -0.47140452],\n",
       "       [ 1.46385011,  0.60068689, -0.47140452],\n",
       "       [ 1.46385011,  0.60068689, -0.47140452],\n",
       "       [ 1.46385011,  0.60068689, -0.47140452],\n",
       "       [-0.68313005,  0.60068689, -0.47140452],\n",
       "       [ 1.46385011,  0.60068689, -0.47140452],\n",
       "       [ 1.46385011,  0.60068689, -0.47140452],\n",
       "       [ 1.46385011,  0.60068689, -0.47140452],\n",
       "       [ 1.46385011,  0.60068689, -0.47140452],\n",
       "       [ 1.46385011,  0.60068689, -0.47140452],\n",
       "       [ 1.46385011,  0.60068689, -0.47140452],\n",
       "       [ 1.46385011,  0.60068689, -0.47140452],\n",
       "       [ 1.46385011,  0.60068689, -0.47140452],\n",
       "       [ 1.46385011,  0.60068689, -0.47140452],\n",
       "       [-0.68313005,  0.60068689, -0.47140452],\n",
       "       [-0.68313005, -1.66476082, -0.47140452],\n",
       "       [ 1.46385011,  0.60068689, -0.47140452],\n",
       "       [ 1.46385011,  0.60068689, -0.47140452],\n",
       "       [ 1.46385011,  0.60068689, -0.47140452],\n",
       "       [ 1.46385011,  0.60068689, -0.47140452],\n",
       "       [-0.68313005, -1.66476082, -0.47140452],\n",
       "       [ 1.46385011, -1.66476082, -0.47140452],\n",
       "       [-0.68313005,  0.60068689, -0.47140452],\n",
       "       [ 1.46385011, -1.66476082, -0.47140452],\n",
       "       [ 1.46385011,  0.60068689, -0.47140452],\n",
       "       [ 1.46385011,  0.60068689, -0.47140452],\n",
       "       [-0.68313005,  0.60068689, -0.47140452],\n",
       "       [-0.68313005, -1.66476082, -0.47140452],\n",
       "       [ 1.46385011,  0.60068689, -0.47140452],\n",
       "       [ 1.46385011,  0.60068689, -0.47140452],\n",
       "       [-0.68313005, -1.66476082, -0.47140452],\n",
       "       [-0.68313005,  0.60068689, -0.47140452],\n",
       "       [-0.68313005,  0.60068689, -0.47140452],\n",
       "       [-0.68313005,  0.60068689, -0.47140452],\n",
       "       [-0.68313005, -1.66476082, -0.47140452],\n",
       "       [ 1.46385011,  0.60068689, -0.47140452],\n",
       "       [ 1.46385011,  0.60068689, -0.47140452],\n",
       "       [-0.68313005,  0.60068689,  2.12132034],\n",
       "       [-0.68313005,  0.60068689, -0.47140452],\n",
       "       [ 1.46385011,  0.60068689, -0.47140452],\n",
       "       [-0.68313005, -1.66476082, -0.47140452],\n",
       "       [-0.68313005, -1.66476082, -0.47140452],\n",
       "       [-0.68313005, -1.66476082,  2.12132034],\n",
       "       [-0.68313005,  0.60068689,  2.12132034],\n",
       "       [-0.68313005, -1.66476082,  2.12132034],\n",
       "       [-0.68313005,  0.60068689,  2.12132034],\n",
       "       [-0.68313005, -1.66476082,  2.12132034],\n",
       "       [-0.68313005, -1.66476082, -0.47140452],\n",
       "       [-0.68313005, -1.66476082,  2.12132034],\n",
       "       [-0.68313005, -1.66476082,  2.12132034],\n",
       "       [-0.68313005, -1.66476082,  2.12132034],\n",
       "       [-0.68313005, -1.66476082,  2.12132034],\n",
       "       [-0.68313005,  0.60068689,  2.12132034],\n",
       "       [-0.68313005, -1.66476082,  2.12132034],\n",
       "       [-0.68313005, -1.66476082,  2.12132034],\n",
       "       [-0.68313005,  0.60068689,  2.12132034],\n",
       "       [-0.68313005, -1.66476082, -0.47140452],\n",
       "       [-0.68313005, -1.66476082,  2.12132034],\n",
       "       [-0.68313005, -1.66476082,  2.12132034],\n",
       "       [-0.68313005, -1.66476082, -0.47140452],\n",
       "       [-0.68313005,  0.60068689,  2.12132034],\n",
       "       [ 1.46385011, -1.66476082, -0.47140452],\n",
       "       [-0.68313005,  0.60068689,  2.12132034],\n",
       "       [-0.68313005, -1.66476082, -0.47140452],\n",
       "       [-0.68313005, -1.66476082,  2.12132034],\n",
       "       [-0.68313005, -1.66476082,  2.12132034],\n",
       "       [-0.68313005, -1.66476082,  2.12132034],\n",
       "       [-0.68313005, -1.66476082, -0.47140452],\n",
       "       [-0.68313005, -1.66476082, -0.47140452],\n",
       "       [-0.68313005,  0.60068689,  2.12132034],\n",
       "       [-0.68313005, -1.66476082, -0.47140452],\n",
       "       [-0.68313005, -1.66476082, -0.47140452],\n",
       "       [-0.68313005, -1.66476082,  2.12132034]])"
      ]
     },
     "execution_count": 52,
     "metadata": {},
     "output_type": "execute_result"
    }
   ],
   "source": [
    "x_data_kbest = SelectKBest(f_classif, k=3).fit_transform(x_stan, y)\n",
    "x_data_kbest"
   ]
  },
  {
   "cell_type": "code",
   "execution_count": 53,
   "metadata": {},
   "outputs": [
    {
     "data": {
      "text/plain": [
       "array([2, 0, 0, 0, 0, 0, 0, 0, 0, 0, 0, 0, 0, 0, 0, 0, 0, 0, 0, 0, 0, 0,\n",
       "       0, 0, 0, 1, 0, 0, 1, 0, 0, 0, 1, 0, 1, 0, 0, 0, 0, 0, 0, 0, 0, 0,\n",
       "       0, 0, 1, 1, 0, 1, 1, 1, 1, 1, 1, 1, 1, 0, 1, 1, 1, 1, 1, 0, 1, 1,\n",
       "       1, 1, 1, 1, 1, 1, 1, 0, 0, 1, 1, 1, 1, 0, 1, 0, 1, 1, 1, 0, 0, 1,\n",
       "       1, 0, 0, 0, 0, 0, 1, 1, 2, 0, 1, 0, 0, 2, 2, 2, 2, 2, 0, 2, 2, 2,\n",
       "       2, 2, 2, 2, 2, 0, 2, 2, 0, 2, 1, 2, 0, 2, 2, 2, 0, 0, 2, 0, 0, 2])"
      ]
     },
     "execution_count": 53,
     "metadata": {},
     "output_type": "execute_result"
    }
   ],
   "source": [
    "kmeans = KMeans(n_clusters = 3, init = 'k-means++', random_state = 42)\n",
    "y_kmeans = kmeans.fit_predict(x_data_kbest)\n",
    "y_kmeans\n"
   ]
  },
  {
   "cell_type": "code",
   "execution_count": 56,
   "metadata": {},
   "outputs": [
    {
     "data": {
      "image/png": "[encoded data removed]",
      "text/plain": [
       "<Figure size 432x288 with 1 Axes>"
      ]
     },
     "metadata": {
      "needs_background": "light"
     },
     "output_type": "display_data"
    }
   ],
   "source": [
    "dbscan = DBSCAN(min_samples=20)\n",
    "\n",
    "# Обучаем\n",
    "dbscan.fit(x_data_kbest)\n",
    "\n",
    "# Уменьшаем размерность при помощи метода главных компонент\n",
    "pca = PCA(n_components=3).fit(x_data_kbest)\n",
    "pca_2d = pca.transform(x_data_kbest)\n",
    "\n",
    "# Строим в соответствии с тремя классами\n",
    "for i in range(0, pca_2d.shape[0]):\n",
    "    if dbscan.labels_[i] == 0:\n",
    "        c1 = plt.scatter(pca_2d[i, 0], pca_2d[i, 1], c='r', marker='+')\n",
    "    elif dbscan.labels_[i] == 1:\n",
    "        c2 = plt.scatter(pca_2d[i, 0], pca_2d[i, 1], c='g', marker='o')\n",
    "    elif dbscan.labels_[i] == -1:\n",
    "        c3 = plt.scatter(pca_2d[i, 0], pca_2d[i, 1], c='b', marker='*')\n",
    "\n",
    "plt.legend([c1, c2, c3], ['ХОЗЛ', 'БА', 'Пневмонія'])\n",
    "plt.title('DBSCAN ')\n",
    "plt.show()"
   ]
  },
  {
   "cell_type": "code",
   "execution_count": 57,
   "metadata": {},
   "outputs": [
    {
     "data": {
      "text/plain": [
       "array([-1,  0,  0,  0,  0,  0,  0,  0,  0,  0,  0,  0,  0,  0,  0,  0,  0,\n",
       "        0,  0,  0,  0,  0,  0,  0,  0,  1,  0,  0,  1,  0,  0,  0,  1,  0,\n",
       "        1,  0,  0,  0,  0,  0,  0,  0,  0,  0,  0, -1,  1,  1,  0, -1,  1,\n",
       "        1,  1,  1,  1,  1,  1,  0,  1,  1,  1,  1,  1,  0,  1,  1,  1,  1,\n",
       "        1,  1,  1,  1,  1,  0, -1,  1,  1,  1,  1, -1, -1,  0, -1,  1,  1,\n",
       "        0, -1,  1,  1, -1,  0,  0,  0, -1,  1,  1, -1,  0,  1, -1, -1, -1,\n",
       "       -1, -1, -1, -1, -1, -1, -1, -1, -1, -1, -1, -1, -1, -1, -1, -1, -1,\n",
       "       -1, -1, -1, -1, -1, -1, -1, -1, -1, -1, -1, -1, -1], dtype=int64)"
      ]
     },
     "execution_count": 57,
     "metadata": {},
     "output_type": "execute_result"
    }
   ],
   "source": [
    "dbscan.labels_\n"
   ]
  },
  {
   "cell_type": "code",
   "execution_count": 58,
   "metadata": {},
   "outputs": [
    {
     "data": {
      "text/plain": [
       "array([2, 2, 2, 2, 2, 2, 2, 2, 2, 2, 2, 2, 2, 2, 2, 2, 2, 2, 2, 2, 2, 2,\n",
       "       2, 2, 2, 2, 2, 2, 2, 2, 2, 2, 2, 2, 2, 2, 2, 2, 2, 2, 2, 2, 2, 2,\n",
       "       2, 2, 0, 0, 0, 0, 0, 0, 0, 0, 0, 0, 0, 0, 0, 0, 0, 0, 0, 0, 0, 0,\n",
       "       0, 0, 0, 0, 0, 0, 0, 0, 0, 0, 0, 0, 0, 0, 0, 0, 0, 0, 0, 0, 0, 0,\n",
       "       0, 0, 0, 0, 0, 0, 0, 0, 0, 0, 0, 1, 1, 1, 1, 1, 1, 1, 1, 1, 1, 1,\n",
       "       1, 1, 1, 1, 1, 1, 1, 1, 1, 1, 1, 1, 1, 1, 1, 1, 1, 1, 1, 1, 1, 1],\n",
       "      dtype=object)"
      ]
     },
     "execution_count": 58,
     "metadata": {},
     "output_type": "execute_result"
    }
   ],
   "source": [
    "y_k"
   ]
  },
  {
   "cell_type": "code",
   "execution_count": 59,
   "metadata": {},
   "outputs": [
    {
     "data": {
      "text/plain": [
       "array([2, 0, 0, 0, 0, 0, 0, 0, 0, 0, 0, 0, 0, 0, 0, 0, 0, 0, 0, 0, 0, 0,\n",
       "       0, 0, 0, 1, 0, 0, 1, 0, 0, 0, 1, 0, 1, 0, 0, 0, 0, 0, 0, 0, 0, 0,\n",
       "       0, 0, 1, 1, 0, 1, 1, 1, 1, 1, 1, 1, 1, 0, 1, 1, 1, 1, 1, 0, 1, 1,\n",
       "       1, 1, 1, 1, 1, 1, 1, 0, 0, 1, 1, 1, 1, 0, 1, 0, 1, 1, 1, 0, 0, 1,\n",
       "       1, 0, 0, 0, 0, 0, 1, 1, 2, 0, 1, 0, 0, 2, 2, 2, 2, 2, 0, 2, 2, 2,\n",
       "       2, 2, 2, 2, 2, 0, 2, 2, 0, 2, 1, 2, 0, 2, 2, 2, 0, 0, 2, 0, 0, 2])"
      ]
     },
     "execution_count": 59,
     "metadata": {},
     "output_type": "execute_result"
    }
   ],
   "source": [
    "y_kmeans"
   ]
  },
  {
   "cell_type": "code",
   "execution_count": 60,
   "metadata": {},
   "outputs": [
    {
     "name": "stderr",
     "output_type": "stream",
     "text": [
      "C:\\Users\\Ruslan\\Anaconda3-2020.11-Windows-x86_64\\lib\\site-packages\\sklearn\\cluster\\_affinity_propagation.py:146: FutureWarning: 'random_state' has been introduced in 0.23. It will be set to None starting from 0.25 which means that results will differ at every function call. Set 'random_state' to None to silence this warning, or to 0 to keep the behavior of versions <0.23.\n",
      "  warnings.warn((\"'random_state' has been introduced in 0.23. \"\n"
     ]
    },
    {
     "data": {
      "text/html": [
       "<div>\n",
       "<style scoped>\n",
       "    .dataframe tbody tr th:only-of-type {\n",
       "        vertical-align: middle;\n",
       "    }\n",
       "\n",
       "    .dataframe tbody tr th {\n",
       "        vertical-align: top;\n",
       "    }\n",
       "\n",
       "    .dataframe thead th {\n",
       "        text-align: right;\n",
       "    }\n",
       "</style>\n",
       "<table border=\"1\" class=\"dataframe\">\n",
       "  <thead>\n",
       "    <tr style=\"text-align: right;\">\n",
       "      <th></th>\n",
       "      <th>ARI</th>\n",
       "      <th>AMI</th>\n",
       "      <th>Homogenity</th>\n",
       "      <th>Completeness</th>\n",
       "      <th>V-measure</th>\n",
       "      <th>Silhouette</th>\n",
       "    </tr>\n",
       "  </thead>\n",
       "  <tbody>\n",
       "    <tr>\n",
       "      <th>K-means</th>\n",
       "      <td>0.184350</td>\n",
       "      <td>0.247062</td>\n",
       "      <td>0.206260</td>\n",
       "      <td>0.329369</td>\n",
       "      <td>0.253666</td>\n",
       "      <td>NaN</td>\n",
       "    </tr>\n",
       "    <tr>\n",
       "      <th>Affinity</th>\n",
       "      <td>0.149855</td>\n",
       "      <td>0.256618</td>\n",
       "      <td>0.554986</td>\n",
       "      <td>0.240716</td>\n",
       "      <td>0.335789</td>\n",
       "      <td>NaN</td>\n",
       "    </tr>\n",
       "    <tr>\n",
       "      <th>Spectral</th>\n",
       "      <td>0.105305</td>\n",
       "      <td>0.181596</td>\n",
       "      <td>0.151733</td>\n",
       "      <td>0.250075</td>\n",
       "      <td>0.188869</td>\n",
       "      <td>NaN</td>\n",
       "    </tr>\n",
       "    <tr>\n",
       "      <th>Agglomerative</th>\n",
       "      <td>0.178489</td>\n",
       "      <td>0.242385</td>\n",
       "      <td>0.203306</td>\n",
       "      <td>0.321189</td>\n",
       "      <td>0.249000</td>\n",
       "      <td>NaN</td>\n",
       "    </tr>\n",
       "    <tr>\n",
       "      <th>DBSCAN</th>\n",
       "      <td>0.000000</td>\n",
       "      <td>0.000000</td>\n",
       "      <td>0.000000</td>\n",
       "      <td>1.000000</td>\n",
       "      <td>0.000000</td>\n",
       "      <td>NaN</td>\n",
       "    </tr>\n",
       "  </tbody>\n",
       "</table>\n",
       "</div>"
      ],
      "text/plain": [
       "                    ARI       AMI  Homogenity  Completeness  V-measure  \\\n",
       "K-means        0.184350  0.247062    0.206260      0.329369   0.253666   \n",
       "Affinity       0.149855  0.256618    0.554986      0.240716   0.335789   \n",
       "Spectral       0.105305  0.181596    0.151733      0.250075   0.188869   \n",
       "Agglomerative  0.178489  0.242385    0.203306      0.321189   0.249000   \n",
       "DBSCAN         0.000000  0.000000    0.000000      1.000000   0.000000   \n",
       "\n",
       "               Silhouette  \n",
       "K-means               NaN  \n",
       "Affinity              NaN  \n",
       "Spectral              NaN  \n",
       "Agglomerative         NaN  \n",
       "DBSCAN                NaN  "
      ]
     },
     "execution_count": 60,
     "metadata": {},
     "output_type": "execute_result"
    }
   ],
   "source": [
    "from sklearn import metrics\n",
    "from sklearn import datasets\n",
    "import pandas as pd\n",
    "from sklearn.cluster import KMeans, AgglomerativeClustering, AffinityPropagation, SpectralClustering, DBSCAN\n",
    "\n",
    "data = df_fill_mean\n",
    "X = x_stan\n",
    "y = y_k\n",
    "\n",
    "\n",
    "algorithms = []\n",
    "algorithms.append(KMeans(n_clusters=2, random_state=1))\n",
    "algorithms.append(AffinityPropagation())\n",
    "algorithms.append(SpectralClustering(n_clusters=2, random_state=1,\n",
    "                                     affinity='nearest_neighbors'))\n",
    "algorithms.append(AgglomerativeClustering(n_clusters=2))\n",
    "algorithms.append(DBSCAN())\n",
    "\n",
    "data = []\n",
    "for algo in algorithms:\n",
    "    algo.fit(X)\n",
    "    data.append(({\n",
    "        'ARI': metrics.adjusted_rand_score(y, algo.labels_),\n",
    "        'AMI': metrics.adjusted_mutual_info_score(y, algo.labels_),\n",
    "        'Homogenity': metrics.homogeneity_score(y, algo.labels_),\n",
    "        'Completeness': metrics.completeness_score(y, algo.labels_),\n",
    "        'V-measure': metrics.v_measure_score(y, algo.labels_)}))\n",
    "\n",
    "results = pd.DataFrame(data=data, columns=['ARI', 'AMI', 'Homogenity',\n",
    "                                           'Completeness', 'V-measure', \n",
    "                                           'Silhouette'],\n",
    "                       index=['K-means', 'Affinity', \n",
    "                              'Spectral', 'Agglomerative', 'DBSCAN'])\n",
    "\n",
    "results"
   ]
  },
  {
   "cell_type": "code",
   "execution_count": null,
   "metadata": {},
   "outputs": [],
   "source": []
  },
  {
   "cell_type": "code",
   "execution_count": null,
   "metadata": {},
   "outputs": [],
   "source": []
  },
  {
   "cell_type": "code",
   "execution_count": null,
   "metadata": {},
   "outputs": [],
   "source": []
  }
 ],
 "metadata": {
  "kernelspec": {
   "display_name": "Python 3",
   "language": "python",
   "name": "python3"
  },
  "language_info": {
   "codemirror_mode": {
    "name": "ipython",
    "version": 3
   },
   "file_extension": ".py",
   "mimetype": "text/x-python",
   "name": "python",
   "nbconvert_exporter": "python",
   "pygments_lexer": "ipython3",
   "version": "3.8.5"
  }
 },
 "nbformat": 4,
 "nbformat_minor": 2
}
