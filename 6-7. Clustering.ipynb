{
 "cells": [
  {
   "cell_type": "code",
   "execution_count": 25,
   "metadata": {},
   "outputs": [],
   "source": [
    "import numpy as np\n",
    "import pandas as pd"
   ]
  },
  {
   "cell_type": "code",
   "execution_count": 26,
   "metadata": {},
   "outputs": [],
   "source": [
    "%matplotlib inline"
   ]
  },
  {
   "cell_type": "code",
   "execution_count": 27,
   "metadata": {},
   "outputs": [
    {
     "data": {
      "text/html": [
       "<div>\n",
       "<style scoped>\n",
       "    .dataframe tbody tr th:only-of-type {\n",
       "        vertical-align: middle;\n",
       "    }\n",
       "\n",
       "    .dataframe tbody tr th {\n",
       "        vertical-align: top;\n",
       "    }\n",
       "\n",
       "    .dataframe thead th {\n",
       "        text-align: right;\n",
       "    }\n",
       "</style>\n",
       "<table border=\"1\" class=\"dataframe\">\n",
       "  <thead>\n",
       "    <tr style=\"text-align: right;\">\n",
       "      <th></th>\n",
       "      <th>f1</th>\n",
       "      <th>f2</th>\n",
       "      <th>diagnosis</th>\n",
       "    </tr>\n",
       "  </thead>\n",
       "  <tbody>\n",
       "    <tr>\n",
       "      <th>0</th>\n",
       "      <td>700</td>\n",
       "      <td>0.14</td>\n",
       "      <td>2</td>\n",
       "    </tr>\n",
       "    <tr>\n",
       "      <th>1</th>\n",
       "      <td>640</td>\n",
       "      <td>0.15</td>\n",
       "      <td>2</td>\n",
       "    </tr>\n",
       "    <tr>\n",
       "      <th>2</th>\n",
       "      <td>690</td>\n",
       "      <td>0.15</td>\n",
       "      <td>2</td>\n",
       "    </tr>\n",
       "    <tr>\n",
       "      <th>3</th>\n",
       "      <td>550</td>\n",
       "      <td>0.13</td>\n",
       "      <td>2</td>\n",
       "    </tr>\n",
       "    <tr>\n",
       "      <th>4</th>\n",
       "      <td>650</td>\n",
       "      <td>0.15</td>\n",
       "      <td>2</td>\n",
       "    </tr>\n",
       "    <tr>\n",
       "      <th>...</th>\n",
       "      <td>...</td>\n",
       "      <td>...</td>\n",
       "      <td>...</td>\n",
       "    </tr>\n",
       "    <tr>\n",
       "      <th>95</th>\n",
       "      <td>670</td>\n",
       "      <td>0.23</td>\n",
       "      <td>3</td>\n",
       "    </tr>\n",
       "    <tr>\n",
       "      <th>96</th>\n",
       "      <td>630</td>\n",
       "      <td>0.19</td>\n",
       "      <td>3</td>\n",
       "    </tr>\n",
       "    <tr>\n",
       "      <th>97</th>\n",
       "      <td>650</td>\n",
       "      <td>0.20</td>\n",
       "      <td>3</td>\n",
       "    </tr>\n",
       "    <tr>\n",
       "      <th>98</th>\n",
       "      <td>620</td>\n",
       "      <td>0.23</td>\n",
       "      <td>3</td>\n",
       "    </tr>\n",
       "    <tr>\n",
       "      <th>99</th>\n",
       "      <td>590</td>\n",
       "      <td>0.18</td>\n",
       "      <td>3</td>\n",
       "    </tr>\n",
       "  </tbody>\n",
       "</table>\n",
       "<p>100 rows × 3 columns</p>\n",
       "</div>"
      ],
      "text/plain": [
       "     f1    f2  diagnosis\n",
       "0   700  0.14          2\n",
       "1   640  0.15          2\n",
       "2   690  0.15          2\n",
       "3   550  0.13          2\n",
       "4   650  0.15          2\n",
       "..  ...   ...        ...\n",
       "95  670  0.23          3\n",
       "96  630  0.19          3\n",
       "97  650  0.20          3\n",
       "98  620  0.23          3\n",
       "99  590  0.18          3\n",
       "\n",
       "[100 rows x 3 columns]"
      ]
     },
     "execution_count": 27,
     "metadata": {},
     "output_type": "execute_result"
    }
   ],
   "source": [
    "# load dataset into Pandas DataFrame\n",
    "file = pd.ExcelFile('MedData.xlsx')\n",
    "df = pd.read_excel(file, names=['f1','f2','diagnosis'])\n",
    "df"
   ]
  },
  {
   "cell_type": "code",
   "execution_count": 28,
   "metadata": {},
   "outputs": [
    {
     "data": {
      "image/png": "[encoded data removed]",
      "text/plain": [
       "<Figure size 576x576 with 1 Axes>"
      ]
     },
     "metadata": {
      "needs_background": "light"
     },
     "output_type": "display_data"
    }
   ],
   "source": [
    "import matplotlib.pyplot as plt\n",
    "fig = plt.figure(figsize = (8,8))\n",
    "ax = fig.add_subplot(1,1,1) \n",
    "ax.set_xlabel('f1', fontsize = 15)\n",
    "ax.set_ylabel('f2', fontsize = 15)\n",
    "ax.set_title('Data visualization', fontsize = 20)\n",
    "targets = [2, 3]\n",
    "colors = ['r', 'g']\n",
    "for target, color in zip(targets,colors):\n",
    "    indicesToKeep = df['diagnosis'] == target\n",
    "    ax.scatter(df.loc[indicesToKeep, 'f1'],\n",
    "               df.loc[indicesToKeep, 'f2'],\n",
    "               c = color,\n",
    "               s = 100)\n",
    "ax.legend(targets)\n",
    "ax.grid()"
   ]
  },
  {
   "cell_type": "code",
   "execution_count": 29,
   "metadata": {},
   "outputs": [
    {
     "name": "stdout",
     "output_type": "stream",
     "text": [
      "[[7.0e+02 1.4e-01]\n",
      " [6.4e+02 1.5e-01]\n",
      " [6.9e+02 1.5e-01]\n",
      " [5.5e+02 1.3e-01]\n",
      " [6.5e+02 1.5e-01]\n",
      " [5.7e+02 1.3e-01]\n",
      " [6.3e+02 1.6e-01]\n",
      " [4.9e+02 1.0e-01]\n",
      " [6.6e+02 1.3e-01]\n",
      " [5.2e+02 1.4e-01]]\n"
     ]
    },
    {
     "data": {
      "text/plain": [
       "array([2., 2., 2., 2., 2., 2., 2., 2., 2., 2., 2., 2., 2., 2., 2., 2., 2.,\n",
       "       2., 2., 2., 2., 2., 2., 2., 2., 2., 2., 2., 2., 2., 2., 2., 2., 2.,\n",
       "       2., 2., 2., 2., 2., 2., 2., 2., 2., 2., 2., 2., 2., 2., 2., 2., 3.,\n",
       "       3., 3., 3., 3., 3., 3., 3., 3., 3., 3., 3., 3., 3., 3., 3., 3., 3.,\n",
       "       3., 3., 3., 3., 3., 3., 3., 3., 3., 3., 3., 3., 3., 3., 3., 3., 3.,\n",
       "       3., 3., 3., 3., 3., 3., 3., 3., 3., 3., 3., 3., 3., 3., 3.])"
      ]
     },
     "execution_count": 29,
     "metadata": {},
     "output_type": "execute_result"
    }
   ],
   "source": [
    "features = ['f1', 'f2']\n",
    "# Separating out the features\n",
    "x = df.loc[:, features].values\n",
    "# Separating out the target\n",
    "#y = df.loc[:,['diagnosis']].values\n",
    "allData = df.values\n",
    "y = allData[:,-1]\n",
    "\n",
    "print(x[:10,:])\n",
    "y"
   ]
  },
  {
   "cell_type": "markdown",
   "metadata": {},
   "source": [
    "# K-means"
   ]
  },
  {
   "cell_type": "code",
   "execution_count": 30,
   "metadata": {},
   "outputs": [],
   "source": [
    "from sklearn.cluster import KMeans\n",
    "# Fitting K-Means to the dataset\n",
    "kmeans = KMeans(n_clusters = 2, init = 'k-means++', random_state = 42)\n",
    "y_kmeans = kmeans.fit_predict(x)"
   ]
  },
  {
   "cell_type": "code",
   "execution_count": 31,
   "metadata": {},
   "outputs": [
    {
     "data": {
      "text/plain": [
       "<matplotlib.legend.Legend at 0x7fd9639a9610>"
      ]
     },
     "execution_count": 31,
     "metadata": {},
     "output_type": "execute_result"
    },
    {
     "data": {
      "image/png": "[encoded data removed]",
      "text/plain": [
       "<Figure size 432x360 with 1 Axes>"
      ]
     },
     "metadata": {
      "needs_background": "light"
     },
     "output_type": "display_data"
    }
   ],
   "source": [
    "def draw_separ_curve(model, res = 500):\n",
    "    xx0_min, xx0_max = plt.xlim()\n",
    "    xx1_min, xx1_max = plt.ylim()\n",
    "    xx0, xx1 = np.meshgrid(np.linspace(xx0_min, xx0_max, res), np.linspace(xx1_min, xx1_max, res))\n",
    "    yy = model.predict(np.hstack((np.reshape(xx0, (res**2, 1)), np.reshape(xx1, (res**2, 1)))))   \n",
    "    yy = yy.reshape(xx0.shape)\n",
    "    plt.contourf(xx0, xx1, yy, 1, alpha = 0.25, colors = ('r', 'g'))\n",
    "    plt.contour(xx0, xx1, yy, 1, colors = 'k')\n",
    "    plt.xlim((xx0_min, xx0_max))\n",
    "    plt.ylim((xx1_min, xx1_max)) \n",
    "\n",
    "plt.figure(figsize = (6, 5))\n",
    "plt.scatter(x[y == 2, 0], x[y == 2, 1], color = 'r', alpha = 1, label = '2')\n",
    "plt.scatter(x[y == 3, 0], x[y == 3, 1], color = 'g', alpha = 1, label = '3')\n",
    "draw_separ_curve(kmeans)\n",
    "plt.xlabel('f1')\n",
    "plt.ylabel('f2')\n",
    "plt.legend(framealpha = 1)"
   ]
  },
  {
   "cell_type": "code",
   "execution_count": 32,
   "metadata": {},
   "outputs": [
    {
     "name": "stdout",
     "output_type": "stream",
     "text": [
      "[0 0 0 1 0 1 0 1 0 1 1 1 1 1 1 0 1 1 1 1 1 1 0 1 0 0 0 0 1 1 1 1 1 1 1 1 0\n",
      " 0 1 1 1 1 1 1 1 1 1 1 1 1 0 1 0 0 0 0 1 0 0 0 0 0 0 1 1 0 0 0 0 1 0 1 0 0\n",
      " 0 0 1 1 0 0 0 0 0 0 1 0 0 0 1 0 0 0 1 0 0 0 0 0 1 1]\n"
     ]
    }
   ],
   "source": [
    "kmeans.score(x,y)\n",
    "print(y_kmeans)"
   ]
  },
  {
   "cell_type": "code",
   "execution_count": 33,
   "metadata": {},
   "outputs": [
    {
     "name": "stdout",
     "output_type": "stream",
     "text": [
      "              precision    recall  f1-score   support\n",
      "\n",
      "         0.0       0.27      0.28      0.28        50\n",
      "         1.0       0.27      0.26      0.26        50\n",
      "\n",
      "    accuracy                           0.27       100\n",
      "   macro avg       0.27      0.27      0.27       100\n",
      "weighted avg       0.27      0.27      0.27       100\n",
      "\n",
      "[[14 36]\n",
      " [37 13]]\n"
     ]
    }
   ],
   "source": [
    "from sklearn import metrics\n",
    "import copy\n",
    "y_k = copy.copy(y)\n",
    "y_k[y == 2] = 0\n",
    "y_k[y == 3] = 1\n",
    "\n",
    "# make predictions\n",
    "expected = y_k\n",
    "predicted = y_kmeans\n",
    "# summarize the fit of the model\n",
    "print(metrics.classification_report(expected, predicted))\n",
    "print(metrics.confusion_matrix(expected, predicted))"
   ]
  },
  {
   "cell_type": "markdown",
   "metadata": {},
   "source": [
    "# Как это исправить?"
   ]
  },
  {
   "cell_type": "code",
   "execution_count": 34,
   "metadata": {},
   "outputs": [
    {
     "name": "stdout",
     "output_type": "stream",
     "text": [
      "[[ 1.11900931 -0.65303909]\n",
      " [ 0.20924564 -0.41643072]\n",
      " [ 0.96738203 -0.41643072]\n",
      " [-1.15539985 -0.88964745]\n",
      " [ 0.36087292 -0.41643072]\n",
      " [-0.8521453  -0.88964745]\n",
      " [ 0.05761837 -0.17982236]\n",
      " [-2.06516352 -1.59947255]\n",
      " [ 0.5125002  -0.88964745]\n",
      " [-1.61028169 -0.65303909]]\n"
     ]
    }
   ],
   "source": [
    "from sklearn.preprocessing import StandardScaler\n",
    "# Standardizing the features\n",
    "x_stan = StandardScaler().fit_transform(x)\n",
    "print(x_stan[:10,:])\n",
    "\n",
    "# Fitting K-Means to the dataset\n",
    "kmeans_st = KMeans(n_clusters = 2, init = 'k-means++', random_state = 42)\n",
    "y_kmeans_st = kmeans_st.fit_predict(x_stan)"
   ]
  },
  {
   "cell_type": "code",
   "execution_count": 35,
   "metadata": {},
   "outputs": [
    {
     "data": {
      "text/plain": [
       "<matplotlib.legend.Legend at 0x7fd965e960d0>"
      ]
     },
     "execution_count": 35,
     "metadata": {},
     "output_type": "execute_result"
    },
    {
     "data": {
      "image/png": "[encoded data removed]",
      "text/plain": [
       "<Figure size 432x360 with 1 Axes>"
      ]
     },
     "metadata": {
      "needs_background": "light"
     },
     "output_type": "display_data"
    }
   ],
   "source": [
    "# outputs\n",
    "centers = kmeans_st.cluster_centers_\n",
    "\n",
    "plt.figure(figsize = (6, 5))\n",
    "plt.scatter(x_stan[y == 2, 0], x_stan[y == 2, 1], color = 'g', alpha = 0.9, label = '2')\n",
    "plt.scatter(x_stan[y == 3, 0], x_stan[y == 3, 1], color = 'r', alpha = 0.9, label = '3')\n",
    "plt.scatter(centers[:,0], centers[:,1], marker=\"s\", s=200)\n",
    "draw_separ_curve(kmeans_st)\n",
    "plt.xlabel('f1')\n",
    "plt.ylabel('f2')\n",
    "plt.legend(framealpha = 1)"
   ]
  },
  {
   "cell_type": "code",
   "execution_count": 36,
   "metadata": {},
   "outputs": [
    {
     "data": {
      "text/plain": [
       "-90.47086956138737"
      ]
     },
     "execution_count": 36,
     "metadata": {},
     "output_type": "execute_result"
    }
   ],
   "source": [
    "kmeans_st.score(x_stan,y)"
   ]
  },
  {
   "cell_type": "code",
   "execution_count": 37,
   "metadata": {},
   "outputs": [
    {
     "name": "stdout",
     "output_type": "stream",
     "text": [
      "              precision    recall  f1-score   support\n",
      "\n",
      "         0.0       0.93      0.76      0.84        50\n",
      "         1.0       0.80      0.94      0.86        50\n",
      "\n",
      "    accuracy                           0.85       100\n",
      "   macro avg       0.86      0.85      0.85       100\n",
      "weighted avg       0.86      0.85      0.85       100\n",
      "\n",
      "[[38 12]\n",
      " [ 3 47]]\n"
     ]
    }
   ],
   "source": [
    "import copy\n",
    "y_k = copy.copy(y)\n",
    "y_k[y == 2] = 1\n",
    "y_k[y == 3] = 0\n",
    "\n",
    "# make predictions\n",
    "expected = y_k\n",
    "predicted = y_kmeans_st\n",
    "# summarize the fit of the model\n",
    "print(metrics.classification_report(expected, predicted))\n",
    "print(metrics.confusion_matrix(expected, predicted))"
   ]
  },
  {
   "cell_type": "code",
   "execution_count": 38,
   "metadata": {},
   "outputs": [
    {
     "data": {
      "image/png": "[encoded data removed]",
      "text/plain": [
       "<Figure size 576x576 with 1 Axes>"
      ]
     },
     "metadata": {
      "needs_background": "light"
     },
     "output_type": "display_data"
    }
   ],
   "source": [
    "sse = {}\n",
    "for k in range(1, 10):\n",
    "    kmeans = KMeans(n_clusters=k, max_iter=1000).fit(x_stan)\n",
    "    sse[k] = kmeans.inertia_ # Inertia: Sum of distances of samples to their closest cluster center\n",
    "plt.figure(figsize = (8, 8))\n",
    "plt.plot(list(sse.keys()), list(sse.values()))\n",
    "plt.xlabel(\"Number of cluster\")\n",
    "plt.ylabel(\"SSE\")\n",
    "plt.show()"
   ]
  },
  {
   "cell_type": "code",
   "execution_count": null,
   "metadata": {},
   "outputs": [],
   "source": []
  },
  {
   "cell_type": "code",
   "execution_count": 50,
   "metadata": {},
   "outputs": [
    {
     "data": {
      "image/png": "[encoded data removed]",
      "text/plain": [
       "<Figure size 792x360 with 2 Axes>"
      ]
     },
     "metadata": {
      "needs_background": "light"
     },
     "output_type": "display_data"
    }
   ],
   "source": [
    "# Импортируем библиотеки\n",
    "from sklearn.datasets import load_iris\n",
    "import matplotlib.pyplot as plt\n",
    "from seaborn import scatterplot as scatter\n",
    "#from sklearn.cluster import DBSCAN\n",
    "\n",
    "# Загружаем датасет\n",
    "iris = load_iris()\n",
    "\n",
    "# Fitting K-Means to the dataset\n",
    "kmeans = KMeans(n_clusters = 3, init = 'k-means++', random_state = 42)\n",
    "y_kmeans = kmeans.fit_predict(iris.data)\n",
    "\n",
    "# outputs\n",
    "centers = kmeans.cluster_centers_\n",
    "\n",
    "f, axes = plt.subplots(1, 2, figsize=(11,5))\n",
    "scatter(iris.data[:,0], iris.data[:,1], ax=axes[0], hue=iris.target)\n",
    "scatter(iris.data[:,0], iris.data[:,1], ax=axes[1], hue=y_kmeans)\n",
    "scatter(centers[:,0], centers[:,1], ax=axes[1], marker=\"s\",s=200)\n",
    "plt.show()\n",
    "\n"
   ]
  },
  {
   "cell_type": "code",
   "execution_count": 47,
   "metadata": {},
   "outputs": [
    {
     "data": {
      "text/plain": [
       "array([[5.9016129 , 2.7483871 , 4.39354839, 1.43387097],\n",
       "       [5.006     , 3.428     , 1.462     , 0.246     ],\n",
       "       [6.85      , 3.07368421, 5.74210526, 2.07105263]])"
      ]
     },
     "execution_count": 47,
     "metadata": {},
     "output_type": "execute_result"
    }
   ],
   "source": [
    "centers"
   ]
  },
  {
   "cell_type": "code",
   "execution_count": null,
   "metadata": {},
   "outputs": [],
   "source": []
  },
  {
   "cell_type": "markdown",
   "metadata": {},
   "source": [
    "# Иерархическая кластеризация"
   ]
  },
  {
   "cell_type": "code",
   "execution_count": 53,
   "metadata": {},
   "outputs": [
    {
     "data": {
      "image/png": "[encoded data removed]",
      "text/plain": [
       "<Figure size 432x288 with 1 Axes>"
      ]
     },
     "metadata": {
      "needs_background": "light"
     },
     "output_type": "display_data"
    }
   ],
   "source": [
    "from scipy.cluster.hierarchy import linkage, dendrogram\n",
    "\n",
    "\n",
    "# Исключаем информацию о диагнозе, сохраняем для дальнейшего использования\n",
    "varieties = list(y)\n",
    "\n",
    "# Извлекаем измерения как массив NumPy\n",
    "samples = x\n",
    "\n",
    "# Реализация иерархической кластеризации при помощи функции linkage\n",
    "diagnoz = linkage(samples, method='complete', metric='euclidean')\n",
    "\n",
    "# Строим дендрограмму, указав параметры удобные для отображения\n",
    "dendrogram(diagnoz,\n",
    "           truncate_mode = 'lastp',\n",
    "           labels=varieties,\n",
    "           leaf_rotation=90,\n",
    "           leaf_font_size=10,\n",
    "           )\n",
    "plt.show()\n"
   ]
  },
  {
   "cell_type": "code",
   "execution_count": null,
   "metadata": {},
   "outputs": [],
   "source": []
  },
  {
   "cell_type": "markdown",
   "metadata": {},
   "source": [
    "# DBSCAN\n"
   ]
  },
  {
   "cell_type": "code",
   "execution_count": 54,
   "metadata": {},
   "outputs": [
    {
     "data": {
      "image/png": "[encoded data removed]",
      "text/plain": [
       "<Figure size 432x288 with 1 Axes>"
      ]
     },
     "metadata": {
      "needs_background": "light"
     },
     "output_type": "display_data"
    }
   ],
   "source": [
    "# Импортируем библиотеки\n",
    "from sklearn.datasets import load_iris\n",
    "import matplotlib.pyplot as plt\n",
    "from sklearn.cluster import DBSCAN\n",
    "from sklearn.decomposition import PCA\n",
    "\n",
    "# Загружаем датасет\n",
    "iris = load_iris()\n",
    "\n",
    "# Определяем модель\n",
    "dbscan = DBSCAN()\n",
    "\n",
    "# Обучаем\n",
    "dbscan.fit(iris.data)\n",
    "\n",
    "# Уменьшаем размерность при помощи метода главных компонент\n",
    "pca = PCA(n_components=2).fit(iris.data)\n",
    "pca_2d = pca.transform(iris.data)\n",
    "\n",
    "# Строим в соответствии с тремя классами\n",
    "for i in range(0, pca_2d.shape[0]):\n",
    "    if dbscan.labels_[i] == 0:\n",
    "        c1 = plt.scatter(pca_2d[i, 0], pca_2d[i, 1], c='r', marker='+')\n",
    "    elif dbscan.labels_[i] == 1:\n",
    "        c2 = plt.scatter(pca_2d[i, 0], pca_2d[i, 1], c='g', marker='o')\n",
    "    elif dbscan.labels_[i] == -1:\n",
    "        c3 = plt.scatter(pca_2d[i, 0], pca_2d[i, 1], c='b', marker='*')\n",
    "\n",
    "plt.legend([c1, c2, c3], ['Кластер 1', 'Кластер 2', 'Шум'])\n",
    "plt.title('DBSCAN нашел 2 кластера и шум')\n",
    "plt.show()"
   ]
  },
  {
   "cell_type": "code",
   "execution_count": 58,
   "metadata": {},
   "outputs": [
    {
     "data": {
      "text/plain": [
       "array([ 0,  0,  0,  0,  0,  0,  0,  0,  0,  0,  0,  0,  0,  0,  0,  0,  0,\n",
       "        0,  0,  0,  0,  0,  0,  0,  0,  0,  0,  0,  0,  0,  0,  0,  0,  0,\n",
       "        0,  0,  0,  0,  0,  0,  0, -1,  0,  0,  0,  0,  0,  0,  0,  0,  1,\n",
       "        1,  1,  1,  1,  1,  1, -1,  1,  1, -1,  1,  1,  1,  1,  1,  1,  1,\n",
       "       -1,  1,  1,  1,  1,  1,  1,  1,  1,  1,  1,  1,  1,  1,  1,  1,  1,\n",
       "        1,  1, -1,  1,  1,  1,  1,  1, -1,  1,  1,  1,  1, -1,  1,  1,  1,\n",
       "        1,  1,  1, -1, -1,  1, -1, -1,  1,  1,  1,  1,  1,  1,  1, -1, -1,\n",
       "        1,  1,  1, -1,  1,  1,  1,  1,  1,  1,  1,  1, -1,  1,  1, -1, -1,\n",
       "        1,  1,  1,  1,  1,  1,  1,  1,  1,  1,  1,  1,  1,  1])"
      ]
     },
     "execution_count": 58,
     "metadata": {},
     "output_type": "execute_result"
    }
   ],
   "source": [
    "dbscan.labels_"
   ]
  },
  {
   "cell_type": "code",
   "execution_count": 59,
   "metadata": {},
   "outputs": [
    {
     "name": "stderr",
     "output_type": "stream",
     "text": [
      "/opt/anaconda3/lib/python3.7/site-packages/sklearn/manifold/_spectral_embedding.py:236: UserWarning: Graph is not fully connected, spectral embedding may not work as expected.\n",
      "  warnings.warn(\"Graph is not fully connected, spectral embedding\"\n"
     ]
    },
    {
     "data": {
      "text/html": [
       "<div>\n",
       "<style scoped>\n",
       "    .dataframe tbody tr th:only-of-type {\n",
       "        vertical-align: middle;\n",
       "    }\n",
       "\n",
       "    .dataframe tbody tr th {\n",
       "        vertical-align: top;\n",
       "    }\n",
       "\n",
       "    .dataframe thead th {\n",
       "        text-align: right;\n",
       "    }\n",
       "</style>\n",
       "<table border=\"1\" class=\"dataframe\">\n",
       "  <thead>\n",
       "    <tr style=\"text-align: right;\">\n",
       "      <th></th>\n",
       "      <th>ARI</th>\n",
       "      <th>AMI</th>\n",
       "      <th>Homogenity</th>\n",
       "      <th>Completeness</th>\n",
       "      <th>V-measure</th>\n",
       "      <th>Silhouette</th>\n",
       "    </tr>\n",
       "  </thead>\n",
       "  <tbody>\n",
       "    <tr>\n",
       "      <th>K-means</th>\n",
       "      <td>0.730238</td>\n",
       "      <td>0.755119</td>\n",
       "      <td>0.751485</td>\n",
       "      <td>0.764986</td>\n",
       "      <td>0.758176</td>\n",
       "      <td>0.552819</td>\n",
       "    </tr>\n",
       "    <tr>\n",
       "      <th>Affinity</th>\n",
       "      <td>0.481172</td>\n",
       "      <td>0.659933</td>\n",
       "      <td>0.914941</td>\n",
       "      <td>0.527822</td>\n",
       "      <td>0.669446</td>\n",
       "      <td>0.347408</td>\n",
       "    </tr>\n",
       "    <tr>\n",
       "      <th>Spectral</th>\n",
       "      <td>0.759199</td>\n",
       "      <td>0.803229</td>\n",
       "      <td>0.795982</td>\n",
       "      <td>0.815646</td>\n",
       "      <td>0.805694</td>\n",
       "      <td>0.554161</td>\n",
       "    </tr>\n",
       "    <tr>\n",
       "      <th>Agglomerative</th>\n",
       "      <td>0.731199</td>\n",
       "      <td>0.767167</td>\n",
       "      <td>0.760801</td>\n",
       "      <td>0.779596</td>\n",
       "      <td>0.770084</td>\n",
       "      <td>0.554324</td>\n",
       "    </tr>\n",
       "    <tr>\n",
       "      <th>DBSCAN</th>\n",
       "      <td>0.520619</td>\n",
       "      <td>0.598995</td>\n",
       "      <td>0.559946</td>\n",
       "      <td>0.656558</td>\n",
       "      <td>0.604416</td>\n",
       "      <td>0.486034</td>\n",
       "    </tr>\n",
       "  </tbody>\n",
       "</table>\n",
       "</div>"
      ],
      "text/plain": [
       "                    ARI       AMI  Homogenity  Completeness  V-measure  \\\n",
       "K-means        0.730238  0.755119    0.751485      0.764986   0.758176   \n",
       "Affinity       0.481172  0.659933    0.914941      0.527822   0.669446   \n",
       "Spectral       0.759199  0.803229    0.795982      0.815646   0.805694   \n",
       "Agglomerative  0.731199  0.767167    0.760801      0.779596   0.770084   \n",
       "DBSCAN         0.520619  0.598995    0.559946      0.656558   0.604416   \n",
       "\n",
       "               Silhouette  \n",
       "K-means          0.552819  \n",
       "Affinity         0.347408  \n",
       "Spectral         0.554161  \n",
       "Agglomerative    0.554324  \n",
       "DBSCAN           0.486034  "
      ]
     },
     "execution_count": 59,
     "metadata": {},
     "output_type": "execute_result"
    }
   ],
   "source": [
    "from sklearn import metrics\n",
    "from sklearn import datasets\n",
    "import pandas as pd\n",
    "from sklearn.cluster import KMeans, AgglomerativeClustering, AffinityPropagation, SpectralClustering, DBSCAN\n",
    "\n",
    "data = datasets.load_iris()\n",
    "X, y = data.data, data.target\n",
    "\n",
    "algorithms = []\n",
    "algorithms.append(KMeans(n_clusters=3, random_state=1))\n",
    "algorithms.append(AffinityPropagation())\n",
    "algorithms.append(SpectralClustering(n_clusters=3, random_state=1,\n",
    "                                     affinity='nearest_neighbors'))\n",
    "algorithms.append(AgglomerativeClustering(n_clusters=3))\n",
    "algorithms.append(DBSCAN())\n",
    "\n",
    "data = []\n",
    "for algo in algorithms:\n",
    "    algo.fit(X)\n",
    "    data.append(({\n",
    "        'ARI': metrics.adjusted_rand_score(y, algo.labels_),\n",
    "        'AMI': metrics.adjusted_mutual_info_score(y, algo.labels_),\n",
    "        'Homogenity': metrics.homogeneity_score(y, algo.labels_),\n",
    "        'Completeness': metrics.completeness_score(y, algo.labels_),\n",
    "        'V-measure': metrics.v_measure_score(y, algo.labels_),\n",
    "        'Silhouette': metrics.silhouette_score(X, algo.labels_)}))\n",
    "\n",
    "results = pd.DataFrame(data=data, columns=['ARI', 'AMI', 'Homogenity',\n",
    "                                           'Completeness', 'V-measure', \n",
    "                                           'Silhouette'],\n",
    "                       index=['K-means', 'Affinity', \n",
    "                              'Spectral', 'Agglomerative', 'DBSCAN'])\n",
    "\n",
    "results"
   ]
  },
  {
   "cell_type": "code",
   "execution_count": 61,
   "metadata": {},
   "outputs": [
    {
     "data": {
      "text/plain": [
       "[{'ARI': 0.7302382722834697,\n",
       "  'AMI': 0.7551191675800484,\n",
       "  'Homogenity': 0.7514854021988339,\n",
       "  'Completeness': 0.7649861514489816,\n",
       "  'V-measure': 0.7581756800057786,\n",
       "  'Silhouette': 0.5528190123564091},\n",
       " {'ARI': 0.48117164749865804,\n",
       "  'AMI': 0.6599333553254316,\n",
       "  'Homogenity': 0.9149410296693684,\n",
       "  'Completeness': 0.5278221404408368,\n",
       "  'V-measure': 0.6694461608974132,\n",
       "  'Silhouette': 0.34740819370555975},\n",
       " {'ARI': 0.7591987071071522,\n",
       "  'AMI': 0.8032287370935431,\n",
       "  'Homogenity': 0.7959816227812412,\n",
       "  'Completeness': 0.8156456882407057,\n",
       "  'V-measure': 0.805693691215336,\n",
       "  'Silhouette': 0.5541608580282847},\n",
       " {'ARI': 0.7311985567707745,\n",
       "  'AMI': 0.767166961571311,\n",
       "  'Homogenity': 0.7608008469718723,\n",
       "  'Completeness': 0.7795958005591144,\n",
       "  'V-measure': 0.7700836616487869,\n",
       "  'Silhouette': 0.5543236611296415},\n",
       " {'ARI': 0.5206185241703302,\n",
       "  'AMI': 0.5989947874137124,\n",
       "  'Homogenity': 0.5599460100861128,\n",
       "  'Completeness': 0.6565579648058795,\n",
       "  'V-measure': 0.6044156375501386,\n",
       "  'Silhouette': 0.48603419703456835}]"
      ]
     },
     "execution_count": 61,
     "metadata": {},
     "output_type": "execute_result"
    }
   ],
   "source": [
    "data"
   ]
  },
  {
   "cell_type": "code",
   "execution_count": null,
   "metadata": {},
   "outputs": [],
   "source": []
  },
  {
   "cell_type": "code",
   "execution_count": null,
   "metadata": {},
   "outputs": [],
   "source": []
  }
 ],
 "metadata": {
  "kernelspec": {
   "display_name": "Python 3",
   "language": "python",
   "name": "python3"
  },
  "language_info": {
   "codemirror_mode": {
    "name": "ipython",
    "version": 3
   },
   "file_extension": ".py",
   "mimetype": "text/x-python",
   "name": "python",
   "nbconvert_exporter": "python",
   "pygments_lexer": "ipython3",
   "version": "3.8.5"
  }
 },
 "nbformat": 4,
 "nbformat_minor": 4
}
